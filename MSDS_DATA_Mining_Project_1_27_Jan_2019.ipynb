{
 "cells": [
  {
   "cell_type": "markdown",
   "metadata": {},
   "source": [
    "# SMU 7331 Data Mining Project 1\n",
    "##### Authors: Shon Mohsin, Heber Nielsen, Jose Torres, Lokesh Maganti"
   ]
  },
  {
   "cell_type": "code",
   "execution_count": 1,
   "metadata": {},
   "outputs": [],
   "source": [
    "import pandas as pd\n",
    "import numpy as np\n",
    "import seaborn as sns\n",
    "import matplotlib.pyplot as plt\n",
    "from pandas.plotting import scatter_matrix, parallel_coordinates\n",
    "from sklearn.decomposition import PCA\n",
    "from sklearn.preprocessing import StandardScaler\n",
    "\n",
    "%matplotlib inline"
   ]
  },
  {
   "cell_type": "markdown",
   "metadata": {},
   "source": [
    "## Business Understanding:\n",
    "\n",
    "Our selected data set was chosen because we had an interest in the subject matter written about in the following paper: _[\"Effects of earthquake on perinatal outcomes: A Chilean register-based study\"](https://github.com/ShonTM/DataMiningProject1/blob/master/chile%20earthquake%20plos%20one%20paper.pdf)_  by Yasna K. Palmeiro-Silva, et al. The paper studied whether the February 27, 2010 earthquake in Chile affected the perinatal outcomes of Chilean pregnant women. \n",
    "\n",
    "For this project, we visualize the dataset used and use exploratory data analysis to identify possible interpretations of the visualizations. We create summary statistics to derive high-level opportunities for further analysis. \n",
    "\n",
    "Useful knowledge represents differences in the visualizations that identify changes in the babies' fetal growth and early adaptation to neonatal life associated with exposure to the earthquake.\n",
    "\n",
    "We can measure effectiveness of a good prediction algorithm by examining model performance metrics such as accuracy, precision, or recall (if classification model), or R^2/AIC/BIC values (regression model).  One useful target variable from this data set is earthquake xposure (Exposed)."
   ]
  },
  {
   "cell_type": "markdown",
   "metadata": {},
   "source": [
    "### Data Collection Process:"
   ]
  },
  {
   "cell_type": "markdown",
   "metadata": {},
   "source": [
    "The following description of the data gathering process is from the paper describing the data quality:\n",
    "\n",
    "All demographic and clinical information was abstracted and recorded by professional workers (medical doctors, midwives, and nurses). The data abstracted included: date of delivery, gestational age at delivery (in weeks), maternal age (in years), parity of mother, the place of residence, the gender of newborns, birth weight (in grams), length (in centimeters), head circumference (in centimeters), Apgar at 1 and 5 minutes, if small for gestational age (SGA) (defined as newborn birth weight <10th percentile for gestational age), ponderal index (weight/height3), preterm delivery (birth between 34–37 weeks). Gender of newborns, location of residence, gestational age (either in weeks or days), parity and maternal age were considered by the study authors as effect modifiers; location of residence was related to three categories of average annual income: low income (500,000 to 1 million Chilean pesos), middle income (1 to 1.5 million Chilean pesos) and high income (more than 1.5 million Chilean pesos).  "
   ]
  },
  {
   "cell_type": "markdown",
   "metadata": {},
   "source": [
    "### Data Preparation\n",
    "\n",
    "The columns are converted to their english values as described in the Data Overview section. The conversion is done directly to the csv file using excel and find and replace functions in python for the class variables. "
   ]
  },
  {
   "cell_type": "markdown",
   "metadata": {},
   "source": [
    "## Data Features ##"
   ]
  },
  {
   "cell_type": "markdown",
   "metadata": {},
   "source": [
    "| Feature Name (Original)       | Feature Name (English) | Description               | Variable Type                |\n",
    "| -----------------------------:| ----------------------:|--------------------------:|-----------------------------:|\n",
    "| id_clinica                    | Clinic_ID              | ID# of the medical clinic | numeric                      |\n",
    "| id_excel                      | Excel_File_ID          | ID# in original source    |                              |\n",
    "| dia                           | Day                    | Day in birth month        | numeric                      |\n",
    "| mes                           | Month                  | Birth month               | numeric                      |\n",
    "| ano                           | Year                   | Birth year                | numeric                      |\n",
    "| sex                           | Sex                    | Birth sex (Mujer/Hombre)  | numeric                      |\n",
    "| peso                          | Weight                 | Birth weight in grams| numeric                           |\n",
    "| talla                         | Length                 | Birth length in cm        | numeric                      |\n",
    "| cc                            | Head_circ              | Head circumference in cm (eyebrow level) | numeric       |\n",
    "| apgar                         | Apgar_1                | Apgar score 1 minute after birth | numeric               |\n",
    "| apgar5                        | Apgar_5                | Apgar score 5 minutes after birth | numeric              |\n",
    "| comuna                        | Municipality           | Avg. annual income in Chilean Pesos | numeric            |\n",
    "| aeg                           | wgt_for_age            | Weight relative to gestational age | Categorical         |\n",
    "| eg                            | Gest_age               | Gestational age at birth in weeks  | numeric             |\n",
    "| trim_exp                      | Trimester              | Trimester on February 27 of either study year| numeric   |\n",
    "| bajo_peso                     | Low_bthwgt             | Indicator for weight under 2500 grams | Categorical      |\n",
    "| pretermino                    | Premature              | Indicator for gestation period less than 37 weeks | Categorical  |\n",
    "| edad_mama                     | Maternal_Age           | Age of mother in years    | numeric                      |\n",
    "| paridad                       | Parity                 | Number of previous live births by same mother | numeric  |\n",
    "| trim_exp_g                    | Trim_study             | Trimester combined with study year (1-6)   | Categorical |\n",
    "| pi                            | Pondural Index         | Calculation representing fetal growth | numeric          |\n",
    "| exposed                       | Exposed                | Indicator of control or earthquake group | Categorical   |"
   ]
  },
  {
   "cell_type": "markdown",
   "metadata": {},
   "source": [
    "One additional comment on APGAR scores.  APGAR is an acronym for the categories: Activity, Pulse, Grimace, Appearance, and Respiration.  It summarizes how well the newborn is making the transition to life outside the uterus.  Points are assigned to each each category based on level of activity observed, and range from 0 to 2.  The sum of all points (maximum score = 10) represents the APGAR score."
   ]
  },
  {
   "cell_type": "code",
   "execution_count": 2,
   "metadata": {},
   "outputs": [],
   "source": [
    "url = 'https://raw.githubusercontent.com/ShonTM/DataMiningProject1/master/Chilean%20Earthquake%20Perinatal%20Outcome_english_translation.csv' \n",
    "df=pd.read_csv(url)"
   ]
  },
  {
   "cell_type": "markdown",
   "metadata": {},
   "source": [
    "## Data Quality\n",
    "\n",
    "The discussion and cells below provide commentary on the quality of this data set.\n",
    "\n",
    "### Missing Values\n",
    "`Clinic_ID` and `Excel_File_ID` are dropped because they are not needed for analysis. Furthermore, the two `NaN` values in `Parity` are inputed with the most commonly observed value of 0.  Since 0 is the mode of `Parity`, we impute the two NaNs with 0.\n",
    "\n",
    "### Duplicates\n",
    "\n",
    "We found `0` duplicates in this data set (see next cell).\n",
    "\n",
    "### Outliers\n",
    "\n",
    "We identified 3 potential outliers based on the scatter plot below of `Weight` vs `Ponderal_index`.  These are newborns whose lengths were much smaller than typical given their weight (more than 4 standard deviations away from the mean)."
   ]
  },
  {
   "cell_type": "code",
   "execution_count": 3,
   "metadata": {
    "scrolled": true
   },
   "outputs": [
    {
     "name": "stdout",
     "output_type": "stream",
     "text": [
      "Dropping columns Clinic_ID and Excel_File_ID...\n",
      "Replacing NaN values in 'Parity' with 0...\n",
      "Renaming Lenght column to Length..\n"
     ]
    }
   ],
   "source": [
    "#Data Cleanup - Dropping unnecessary columns, replacing NaNs, and fixing column names\n",
    "print('Dropping columns Clinic_ID and Excel_File_ID...')\n",
    "print('Replacing NaN values in \\'Parity\\' with 0...')\n",
    "print('Renaming Lenght column to Length..')\n",
    "\n",
    "#drop \"Clinic_ID\" and \"Excel_File_ID\" from dataframe\n",
    "df.drop('Clinic_ID', axis=1, inplace=True, errors='ignore')\n",
    "df.drop('Excel_File_ID', axis=1, inplace=True, errors='ignore')\n",
    "\n",
    "\n",
    "#identify records with missing values\n",
    "#display(df.iloc[df['Parity'].isna().get_values(),:].transpose() \\\n",
    "#           .style.highlight_null(null_color='red'))\n",
    "\n",
    "#replace NaN in Parity with 0, which is the most common label\n",
    "df['Parity'].fillna(0, inplace=True)\n",
    "\n",
    "\n",
    "#rename length column\n",
    "df.rename(columns={'Lenght': 'Length'}, inplace=True)"
   ]
  },
  {
   "cell_type": "code",
   "execution_count": 4,
   "metadata": {
    "scrolled": true
   },
   "outputs": [
    {
     "name": "stdout",
     "output_type": "stream",
     "text": [
      "There are 0 duplicated records.\n"
     ]
    }
   ],
   "source": [
    "print('There are {} duplicated records.'.format(df.duplicated().sum()))"
   ]
  },
  {
   "cell_type": "markdown",
   "metadata": {},
   "source": [
    "# Data Visualization and Visual Analysis #"
   ]
  },
  {
   "cell_type": "markdown",
   "metadata": {},
   "source": [
    "Categorical variables identified: `Sex`, `Municipality`, `wgt_for_age`, `Trimester`, `Low_birthwgt`, `Premature`, `Trim_study`, `Parity`, `Exposed`, `Apgar_1`, `Apgar_5`, `Gest_age`\n",
    "\n",
    "Continuous variables identified: `Weight`, `Length`, `Head_circ`, `Maternal_age`, `Ponderal_index`"
   ]
  },
  {
   "cell_type": "code",
   "execution_count": null,
   "metadata": {
    "scrolled": true
   },
   "outputs": [
    {
     "name": "stdout",
     "output_type": "stream",
     "text": [
      "Categorical variables: ['Municipality', 'wgt_for_age', 'Trimester', 'Low_birthwgt', 'Trim_study', 'Parity', 'Apgar_1', 'Apgar_5', 'Exposed', 'Sex', 'Premature', 'Trim_study', 'Gest_age']\n",
      "\n",
      "Continuous variables: ['Weight', 'Length', 'Head_circ', 'Maternal_age', 'Ponderal_index']\n",
      "\n"
     ]
    }
   ],
   "source": [
    "#ignore some columns\n",
    "columns_ignore = ['Day', 'Month', 'Year']\n",
    "df_lite = df.drop(columns_ignore, axis=1)\n",
    "\n",
    "#map some categorical variables to work with parallel coordinate plots and have a more natural ordering\n",
    "df_lite['Sex'] = df_lite['Sex'].map({'female': 0, 'male': 1})\n",
    "df_lite['Premature'] = df_lite['Premature'].map({'Premature': 1, 'Not premature': 0})\n",
    "df_lite['Trim_study'] = df_lite['Trim_study'].map({'First2009': '1', 'Second2009': '2', 'Third2009': '3', \n",
    "                          'First2010': '4', 'Second2010': '5', 'Third2010': '6' })\n",
    "\n",
    "#get list of categorical variables\n",
    "categories = list(df_lite.columns[df_lite.dtypes == 'object']) \\\n",
    "                    + ['Parity', 'Apgar_1', 'Apgar_5', 'Exposed', 'Sex', 'Premature', 'Trim_study', 'Gest_age']\n",
    "continuous = [col for col in df_lite.columns if col not in categories]\n",
    "\n",
    "#confirm list of categorical variables\n",
    "print('Categorical variables: {}\\n'.format(categories))\n",
    "print('Continuous variables: {}\\n'.format(continuous))\n",
    "\n",
    "#change data type for categorical variables to pandas 'category' type\n",
    "df_lite[categories] = df_lite[categories].astype('category')"
   ]
  },
  {
   "cell_type": "markdown",
   "metadata": {},
   "source": [
    "## Summary Statistics and Commentary ##\n",
    "\n",
    "It is important to look at measurements of centrality and dispersion, such as mean and standard deviation, to help identify distributions and that observed values match prior expectations for those variables.\n",
    "\n",
    "### Main Observations ###\n",
    "\n",
    "Observations for continuous variables:\n",
    "+ `weight` has much larger values (due to small unit of measure) as well as a larger range than the other continuous variables.  This should be normalized before fitting any statistical models that use distance-based measurements for error.\n",
    "\n",
    "+ In the scatter plot matrix, there is evidence of symmetry in all continuous variables\n",
    "\n",
    "Observations for categorical variables:\n",
    "+ Most categorical variables have only a few categories (2 or 3)"
   ]
  },
  {
   "cell_type": "code",
   "execution_count": null,
   "metadata": {
    "scrolled": false
   },
   "outputs": [],
   "source": [
    "print('Summary Statistics for Continuous Features:')\n",
    "display(df_lite[continuous].describe())\n",
    "print('Summary Statistics for Categorical Features:')\n",
    "display(df_lite[categories].describe())"
   ]
  },
  {
   "cell_type": "markdown",
   "metadata": {},
   "source": [
    "### Correlation ###\n",
    "- A few continuous variables appear approximately Normally distributed (e.g. `weight`, and `head_circ`), and all appear to be symmetric\n",
    "\n",
    "- The correlation scores in the data frame below show strongest linear correlation for the following pairs:\n",
    " - corr(`weight`,`length`) = .72, \n",
    " - corr(`weight`, `head_circ`) = .61\n",
    " - corr(`length`, `head_circ`) = .49\n",
    " - corr(`weight`, `ponderal_index`) = .49\n",
    " \n",
    "We expect these strong correlations because this is known information. We can confirm that a higher weight shows a strong relationship to the length of the baby, along with the size of the head circumference. Overall, the correlations do not reveal any surprising relationships. "
   ]
  },
  {
   "cell_type": "code",
   "execution_count": null,
   "metadata": {
    "scrolled": true
   },
   "outputs": [],
   "source": [
    "#https://pandas.pydata.org/pandas-docs/stable/user_guide/style.html\n",
    "display(df_lite.corr().style.background_gradient('coolwarm'))"
   ]
  },
  {
   "cell_type": "code",
   "execution_count": null,
   "metadata": {
    "scrolled": false
   },
   "outputs": [],
   "source": [
    "plt.style.use('default')\n",
    "ax = scatter_matrix(df_lite,figsize=(10, 10))"
   ]
  },
  {
   "cell_type": "markdown",
   "metadata": {},
   "source": [
    "If we look a little closer at correlation using bivariate contour plots, we see that there are a few cases with multiple density maxima, such as for `weight vs Head_circ` and `Head_circ` vs `Ponderal_index`. (Density maxima define a point process in which the fundamental quantity is the set of positions which are local maxima of the density field). These observations suggest looking more extensively for further hypothesis testing."
   ]
  },
  {
   "cell_type": "code",
   "execution_count": null,
   "metadata": {
    "scrolled": false
   },
   "outputs": [],
   "source": [
    "#Show how balanced the counts are across categorical variables\n",
    "fig, ax = plt.subplots(nrows=5, ncols=5, figsize=(20,20))\n",
    "plt.style.use('ggplot')\n",
    "#sns.set(style=\"white\")\n",
    "plt.suptitle('Number of Exposed and Non-Exposed Newborns')\n",
    "\n",
    "for i in range(len(continuous)):\n",
    "    for j in range(i+1, len(continuous)):\n",
    "        sns.kdeplot(data=df_lite[continuous].iloc[:,i], \n",
    "                            data2=df_lite[continuous].iloc[:,j], ax=ax[i, j], shade_lowest=False, cmap='Blues')\n",
    "        ax[i,j].set_title('{} vs {}'.format(continuous[i],continuous[j]))\n",
    "\n",
    "#adjust tight_layout to avoid title clipping\n",
    "fig.tight_layout(rect=[0, 0, 1, .94])\n",
    "\n",
    "for i in range(5):\n",
    "    for j in range(i+1):\n",
    "        ax[i,j].set_visible(False)\n",
    "\n",
    "plt.show()"
   ]
  },
  {
   "cell_type": "markdown",
   "metadata": {},
   "source": [
    "### Revisiting Outliers ###\n",
    "\n",
    "There are 3 outliers seen in the `weight` vs `Ponderal_index` scatterplot.  These are newborns whose lengths were much smaller than would be predicted given their weight (more than 4 standard deviations away from the mean).  Since `Ponderal_index` is inversely proportional to Length^3, it is high for these 3 unusually short babies. Since any genetic-related abnormalities are not captured in the data, we do not drop the outliers as there may be several factors that may be causing these outlier anomalies, which may be observed with a larger dataset. \n",
    "\n",
    "These potential outliers are identified in the plot below (in blue)."
   ]
  },
  {
   "cell_type": "code",
   "execution_count": null,
   "metadata": {},
   "outputs": [],
   "source": [
    "x = df_lite['Ponderal_index']\n",
    "y = df_lite['Weight']\n",
    "c = df_lite['Ponderal_index'] >= 4.0\n",
    "\n",
    "plt.figure(figsize=(5,5))\n",
    "plt.style.use('ggplot')\n",
    "\n",
    "ax = sns.scatterplot(x,y,hue=c)\n",
    "ax.legend().set_visible(False)\n",
    "ax.set_title('Outlier Identification')\n",
    "plt.show()"
   ]
  },
  {
   "cell_type": "markdown",
   "metadata": {},
   "source": [
    "### Statistical Comparisons ###\n",
    "\n",
    "We divide our buckets by the binary 'Exposed' column to see if there are visually discernable observations that are evident between infants that were born before the earthquake or after the earthquake. \n",
    "\n",
    "Using the continuous variables, we examine means, medians, standard deviations, quartiles and ranges by exposure group, as well as the differences in means.  We see that the % change in the mean of each variable for Exposed babies is a slight decrease for the newborn measurements, and an increase in maternal age and ponderal index. "
   ]
  },
  {
   "cell_type": "code",
   "execution_count": null,
   "metadata": {
    "scrolled": false
   },
   "outputs": [],
   "source": [
    "#mean values of target variables grouped by exposure to earthquake\n",
    "summary_df = df_lite.groupby(by='Exposed').agg([np.mean, np.median, np.std]).transpose()\n",
    "summary_df.columns = ['Not Exposed', 'Exposed']\n",
    "summary_df['Difference'] = summary_df['Exposed'] - summary_df['Not Exposed']\n",
    "summary_df['Difference %'] = summary_df['Difference'] / summary_df['Not Exposed'] * 100\n",
    "summary_df.reset_index(inplace=True)\n",
    "summary_df.columns = ['Variable', 'Statistic', 'Not Exposed', 'Exposed', 'Difference', 'Difference %']\n",
    "summary_df"
   ]
  },
  {
   "cell_type": "markdown",
   "metadata": {},
   "source": [
    "When we look at the distribution of newborns for each category in `Sex`, `Wealth`, `Trimester`, and `Parity` variables, we see the non-exposed (red) and exposed (blue) classes are **balanced** across all categories of all variables.  \n",
    "\n",
    "These plots are interpreted by first picking a categorical variable, say Sex, then pick a category, say Female.  Of all Females, the red bar represents the number that were exposed.  The blue bar is the number that were not exposed.\n",
    "\n",
    "Similar bar heights confirm the proportion of exposed newborns is similar to the proportion of non-exposed newborns. Thus, statistics computed for each category for exposed babies and non-exposed babies have a similar number of observations. Further anaylysis is needed to see if the differences observed between exposed and non-exposed are statistically significant. "
   ]
  },
  {
   "cell_type": "code",
   "execution_count": null,
   "metadata": {
    "scrolled": false
   },
   "outputs": [],
   "source": [
    "#Show how balanced the counts are across categorical variables\n",
    "fig, ax = plt.subplots(nrows=2, ncols=3, figsize=(15,10))\n",
    "plt.style.use('ggplot')\n",
    "plt.suptitle('Number of Exposed and Non-Exposed Newborns')\n",
    "\n",
    "#plot each cross tabulation (% is relative to total newborns in a variable category)\n",
    "independent_features = ['Sex', 'Municipality', 'Trimester', 'Parity', 'Premature']\n",
    "for idx in range(len(independent_features)):\n",
    "    row = int(idx / 3)\n",
    "    col = int(idx % 3)\n",
    "    pd.crosstab(index=df_lite[independent_features[idx]],columns=df_lite['Exposed'],\n",
    "                colnames=['Stress Exposure']).plot(kind='bar', ax=ax[row,col])\n",
    "    ax[row,col].set_ylabel('Count')\n",
    "    ax[row,col].set_title(independent_features[idx])\n",
    "    ax[row,col].set_xlabel('')\n",
    "\n",
    "#adjust tight_layout to avoid title clipping\n",
    "fig.tight_layout(rect=[0, 0, 1, .94])\n",
    "ax[1,2].set_visible(False)\n",
    "\n",
    "plt.show()"
   ]
  },
  {
   "cell_type": "markdown",
   "metadata": {},
   "source": [
    "The distribution plots below show the continuous variables in a little more detail than the correlogram above.  `Weight` and `Ponderal_index` have the most bell-shaped curve. An interesting observation is the `Head_circ`distribution which shows a double peak with smaller peaks on each side. Differences in `Head_circ` are known to reflect difference in brain growth. Further analysis is warranted to discern any meaninful relationship to explain the peaks and valleys. "
   ]
  },
  {
   "cell_type": "code",
   "execution_count": null,
   "metadata": {
    "scrolled": false
   },
   "outputs": [],
   "source": [
    "fig, ax = plt.subplots(nrows=2, ncols=3, figsize=(12,7))\n",
    "plt.style.use('ggplot')\n",
    "plt.suptitle('Distribution Plots with Kernel Smoothing')\n",
    "\n",
    "#plot each cross tabulation (% is relative to total newborns in a variable category)\n",
    "independent_features = continuous\n",
    "for idx in range(len(independent_features)):\n",
    "    row = int(idx / 3)\n",
    "    col = int(idx % 3)\n",
    "    sns.distplot(df_lite[independent_features].iloc[:,idx],\n",
    "                               hist=True,kde=True,color='darkblue',\n",
    "                               hist_kws={'edgecolor':'black'},kde_kws={'linewidth':4}, ax=ax[row,col])\n",
    "    ax[row,col].set_title(independent_features[idx])\n",
    "    ax[row,col].set_xlabel('')\n",
    "\n",
    "ax[1,2].set_visible(False)\n",
    "#df_lite[continuous].apply(lambda x: plothist(x), axis=0)"
   ]
  },
  {
   "cell_type": "markdown",
   "metadata": {},
   "source": [
    "To visualize the parallel coordinates, we changed the scale to normalize values for the dataset. \n",
    "\n",
    "From the output, we see that there is a stonger tendency for babies born after exposure to be mildly premature compared to babies born before exposure. This is interesting as we observe no other reason for this anomaly. However, causation does not equate to correlation, and further analysis must be pursued to determine if the exposure can be an explanation of this difference."
   ]
  },
  {
   "cell_type": "code",
   "execution_count": null,
   "metadata": {
    "scrolled": false
   },
   "outputs": [],
   "source": [
    "# Plot of parallel coordinates. \n",
    "\n",
    "plt.close('all')\n",
    "plt.figure(figsize=(10,10))\n",
    "\n",
    "df_normalized = (df_lite[continuous] - df_lite[continuous].min()) / (df_lite[continuous].max() - df_lite[continuous].min())\n",
    "df_normalized['Exposed'] = df_lite['Exposed']\n",
    "df_normalized['Trim_study'] = df_lite['Trim_study']\n",
    "df_normalized['Premature'] = df_lite['Premature']\n",
    "#df_normalized['Sex'] = df_lite['Sex'].map({'female': 0, 'male': 1})\n",
    "df_normalized['Apgar_5'] = df_lite['Apgar_5']\n",
    "parallel_coordinates(df_normalized.loc[:,['Exposed', 'Apgar_5', 'Maternal_age', 'Premature']], 'Exposed',color=[[1,0,0,1],[0,1,0,.01]])"
   ]
  },
  {
   "cell_type": "markdown",
   "metadata": {},
   "source": [
    "We compare box plots to understand the differences in weight categorized by trimester and sex.  Observing the box plot, we see two patterns:\n",
    "+ Exposure in the second trimester produces more outliers in weight.\n",
    "+ Exposed males tend to weigh less\n",
    "+ Exposed premature babies appearing to weigh less than non-exposed premature babies\n",
    "\n",
    "Next, we compare box plots to understand the differences in maternal age by trimester, baby's sex, and premature status.  Observing the box plot, we see two patterns:\n",
    "\n",
    "+ Exposed babies tend to have older mothers than non-exposed babies\n",
    "+ Premature exposed babies have a higher proportion of younger mothers than non-premature exposed babies"
   ]
  },
  {
   "cell_type": "code",
   "execution_count": null,
   "metadata": {
    "scrolled": false
   },
   "outputs": [],
   "source": [
    "fig, ax = plt.subplots(nrows=2, ncols=2, figsize=(16,16))\n",
    "plt.style.use('ggplot')\n",
    "plt.suptitle('Distribution Plots with Kernel Smoothing')\n",
    "\n",
    "independent_features = ['Trimester', 'Sex', 'Premature']\n",
    "for idx in range(len(independent_features)):\n",
    "    row = int(idx / 2)\n",
    "    col = int(idx % 2)\n",
    "    sns.boxplot(x=independent_features[idx], y='Weight', hue='Exposed', data=df_lite, ax=ax[row,col])\n",
    "    ax[row,col].set_title(independent_features[idx])\n",
    "    ax[row,col].set_xlabel('')\n",
    "    \n",
    "ax[0,1].set_xticklabels(labels = ['Female','Male'])\n",
    "ax[1,0].set_xticklabels(labels = ['Not Premature','Premature'])\n",
    "ax[1,1].set_visible(False)\n",
    "plt.show()"
   ]
  },
  {
   "cell_type": "code",
   "execution_count": null,
   "metadata": {
    "scrolled": false
   },
   "outputs": [],
   "source": [
    "fig, ax = plt.subplots(nrows=2, ncols=2, figsize=(16,16))\n",
    "plt.style.use('ggplot')\n",
    "plt.suptitle('Distribution Plots with Kernel Smoothing')\n",
    "\n",
    "#plot each cross tabulation (% is relative to total newborns in a variable category)\n",
    "independent_features = ['Trimester', 'Sex', 'Premature']\n",
    "for idx in range(len(independent_features)):\n",
    "    row = int(idx / 2)\n",
    "    col = int(idx % 2)\n",
    "    sns.boxplot(x=independent_features[idx], y='Maternal_age', hue='Exposed', data=df_lite, ax=ax[row,col])\n",
    "    ax[row,col].set_title(independent_features[idx])\n",
    "    ax[row,col].set_xlabel('')\n",
    "    \n",
    "ax[0,1].set_xticklabels(labels = ['Female','Male'])\n",
    "ax[1,0].set_xticklabels(labels = ['Not Premature','Premature'])\n",
    "ax[1,1].set_visible(False)\n",
    "plt.show()"
   ]
  },
  {
   "cell_type": "markdown",
   "metadata": {},
   "source": []
  },
  {
   "cell_type": "code",
   "execution_count": null,
   "metadata": {},
   "outputs": [],
   "source": []
  },
  {
   "cell_type": "markdown",
   "metadata": {},
   "source": [
    "## Additional Features ##"
   ]
  },
  {
   "cell_type": "markdown",
   "metadata": {},
   "source": [
    "Infant weight and length are used as inputs for the Ponderal index score.  \n",
    "Other potential new features could be:\n",
    "+ Discretizing some of the continuous variables into categories with larger differences (e.g. small/mid/large length)\n",
    "+ Convert the APGAR scores into the meaningful categories that the numbers represent:\n",
    " + 0-3 = Severely depressed infant\n",
    " + 4-6 = Moderately depressed infant\n",
    " + or 7-10 = Excellent condition\n"
   ]
  },
  {
   "cell_type": "markdown",
   "metadata": {},
   "source": [
    "## Principal Components Visualizations ## "
   ]
  },
  {
   "cell_type": "code",
   "execution_count": null,
   "metadata": {},
   "outputs": [],
   "source": [
    "###Redo the model, ask for 3 component model\n",
    "#features = ['Sex', 'Head_circ', 'apgar_1', 'Apgar_5', 'Municipality', 'Wgt_for_age', 'Gest_age', \n",
    "#            'Trimester', 'Low_birthwgt', 'Premature', 'Maternal_age', 'Parity', 'Ponderal_index']\n",
    "#extra_features = ['Weight', 'Length']\n",
    "\n",
    "X = StandardScaler().fit_transform(df_lite[continuous].values)\n",
    "y = df_lite[['Exposed']].values\n",
    "\n",
    "pca = PCA().fit(X)\n",
    "plt.plot(np.cumsum(pca.explained_variance_ratio_))\n",
    "plt.xlabel('number of components')\n",
    "plt.ylabel('cumulative explained variance')\n",
    "plt.show()\n",
    "\n",
    "#PCA Projection to smaller number of variables\n",
    "#I chose 2 components because only a 2-dimensional plot is being done.\n",
    "\n",
    "pca = PCA(n_components=2)\n",
    "X_prin = pca.fit_transform(X)\n",
    "principalDf = pd.DataFrame(data = np.concatenate((X_prin,y), axis=1),\n",
    "                          columns = ['principal component 1', 'principal component 2', 'Exposed'])"
   ]
  },
  {
   "cell_type": "code",
   "execution_count": null,
   "metadata": {
    "scrolled": false
   },
   "outputs": [],
   "source": [
    "##Visualize the Projection\n",
    "#Use a PcA projection to 2D to visualize the entire data set.\n",
    "#Plot different classes using different colors or shapes.\n",
    "#Do the classes seem well-seperated from each other?\n",
    "\n",
    "fig = plt.figure(figsize = (8,8))\n",
    "ax = fig.add_subplot(1,1,1) \n",
    "\n",
    "ax.set_xlabel('Principal Component 1', fontsize = 15)\n",
    "ax.set_ylabel('Principal Component 2', fontsize = 15)\n",
    "ax.set_title('2 Component PCA', fontsize = 20)\n",
    "\n",
    "\n",
    "sns.scatterplot(x=principalDf.iloc[:,0], y=principalDf.iloc[:,1], hue=principalDf.iloc[:,2])\n",
    "plt.show()"
   ]
  },
  {
   "cell_type": "markdown",
   "metadata": {},
   "source": [
    "### Modeling "
   ]
  },
  {
   "cell_type": "markdown",
   "metadata": {},
   "source": [
    "### Evaluation"
   ]
  },
  {
   "cell_type": "markdown",
   "metadata": {},
   "source": [
    "### Deployment"
   ]
  }
 ],
 "metadata": {
  "kernelspec": {
   "display_name": "Python 3",
   "language": "python",
   "name": "python3"
  },
  "language_info": {
   "codemirror_mode": {
    "name": "ipython",
    "version": 3
   },
   "file_extension": ".py",
   "mimetype": "text/x-python",
   "name": "python",
   "nbconvert_exporter": "python",
   "pygments_lexer": "ipython3",
   "version": "3.6.5"
  }
 },
 "nbformat": 4,
 "nbformat_minor": 2
}
